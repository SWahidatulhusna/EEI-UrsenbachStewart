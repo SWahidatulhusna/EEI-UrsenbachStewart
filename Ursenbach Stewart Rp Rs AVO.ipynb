{
 "cells": [
  {
   "cell_type": "markdown",
   "id": "89325fb4",
   "metadata": {},
   "source": [
    "# Ursenbach - Stewart (2008)"
   ]
  },
  {
   "cell_type": "code",
   "execution_count": 1,
   "id": "c30147fa",
   "metadata": {},
   "outputs": [],
   "source": [
    "#import\n",
    "import numpy as np"
   ]
  },
  {
   "cell_type": "code",
   "execution_count": 2,
   "id": "1f8786fa",
   "metadata": {},
   "outputs": [],
   "source": [
    "#user input angle ranges\n",
    "near_min=3\n",
    "near_max=18\n",
    "mid_min=16\n",
    "mid_max=31\n",
    "far_min=29\n",
    "far_max=44"
   ]
  },
  {
   "cell_type": "code",
   "execution_count": 3,
   "id": "c2aa3f36",
   "metadata": {},
   "outputs": [
    {
     "name": "stdout",
     "output_type": "stream",
     "text": [
      "near angle is at 10.5\n",
      "mid angle is at 23.5\n",
      "far angle is at 36.5\n"
     ]
    }
   ],
   "source": [
    "near_a=((near_max-near_min)/2)+near_min\n",
    "print ('near angle is at',near_a) #center angle\n",
    "mid_a=((mid_max-mid_min)/2)+mid_min\n",
    "print ('mid angle is at',mid_a)\n",
    "far_a=((far_max-far_min)/2)+far_min\n",
    "print ('far angle is at',far_a)"
   ]
  },
  {
   "cell_type": "code",
   "execution_count": 4,
   "id": "75c0c613",
   "metadata": {},
   "outputs": [
    {
     "name": "stdout",
     "output_type": "stream",
     "text": [
      "0.25\n"
     ]
    }
   ],
   "source": [
    "VpVs=2\n",
    "k=(1/VpVs)**2 #approximate average (Vs/Vp)^2 value\n",
    "print (k)"
   ]
  },
  {
   "cell_type": "code",
   "execution_count": 5,
   "id": "58505ecf",
   "metadata": {},
   "outputs": [],
   "source": [
    "#TESTING DATA\n",
    "#near_a=7\n",
    "#mid_a=21\n",
    "#far_a=35"
   ]
  },
  {
   "cell_type": "code",
   "execution_count": 6,
   "id": "f98ed5a4",
   "metadata": {},
   "outputs": [
    {
     "name": "stdout",
     "output_type": "stream",
     "text": [
      "[[ 1.03412241 -0.06641957]\n",
      " [ 1.18304961 -0.31800164]\n",
      " [ 1.50879674 -0.7076283 ]]\n",
      "[[ 1.03412241  1.18304961  1.50879674]\n",
      " [-0.06641957 -0.31800164 -0.7076283 ]]\n"
     ]
    }
   ],
   "source": [
    "theta=np.array([near_a,mid_a,far_a])\n",
    "Gt=np.array([(1+((4*k*((np.cos(theta*(2*np.pi/360)))**2)-1)/5)*((np.sin(theta*(2*np.pi/360)))**2))*(1/((np.cos(theta*(2*np.pi/360)))**2)),-8*k*(np.sin(theta*(2*np.pi/360)))**2])\n",
    "G=np.matrix.transpose(Gt)\n",
    "#DEBUG\n",
    "print (G)\n",
    "print (Gt)"
   ]
  },
  {
   "cell_type": "code",
   "execution_count": 7,
   "id": "cf388a9e",
   "metadata": {},
   "outputs": [
    {
     "name": "stdout",
     "output_type": "stream",
     "text": [
      "[[ 0.89356261  0.40096683 -0.26406258]\n",
      " [ 2.11975288  0.47583524 -1.82597202]]\n"
     ]
    }
   ],
   "source": [
    "i=np.dot(Gt,G)\n",
    "iinv=np.linalg.inv(i)\n",
    "Gfin=np.dot(iinv,Gt) #inversion G*m=d -> m=(inv(Gt*G)*Gt)*d -> Gfin=inv(Gt*G)*Gt\n",
    "print(Gfin) #final values of R(near), R(mid), R(far) constants for Rp (top row) Rs (bottom row) calculations"
   ]
  },
  {
   "cell_type": "code",
   "execution_count": 8,
   "id": "f8b56262",
   "metadata": {},
   "outputs": [],
   "source": [
    "#TESTING\n",
    "#p=1 #placeholder value for variables (testing purposes)\n",
    "#s=1\n",
    "#m=np.array([[p],[s]])\n",
    "#print (m)\n",
    "\n",
    "#d=np.dot(G,m)\n",
    "#print (d)\n",
    "\n",
    "#print (np.cos(60*(2*np.pi/360))) #2piR=360\n",
    "\n",
    "#print ('third row second collumn is',G[2,1]) #numpy array starts at 0"
   ]
  },
  {
   "cell_type": "code",
   "execution_count": null,
   "id": "fc1cabcd",
   "metadata": {},
   "outputs": [],
   "source": []
  }
 ],
 "metadata": {
  "kernelspec": {
   "display_name": "Python 3 (ipykernel)",
   "language": "python",
   "name": "python3"
  },
  "language_info": {
   "codemirror_mode": {
    "name": "ipython",
    "version": 3
   },
   "file_extension": ".py",
   "mimetype": "text/x-python",
   "name": "python",
   "nbconvert_exporter": "python",
   "pygments_lexer": "ipython3",
   "version": "3.11.0"
  }
 },
 "nbformat": 4,
 "nbformat_minor": 5
}
